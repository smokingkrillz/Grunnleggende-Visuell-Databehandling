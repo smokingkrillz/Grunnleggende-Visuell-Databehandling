{
 "cells": [
  {
   "cell_type": "code",
   "execution_count": 63,
   "metadata": {},
   "outputs": [],
   "source": [
    "\n",
    "%load_ext autoreload\n",
    "%autoreload 2\n",
    "\n",
    "from pl_trainer import LightningModule\n",
    "from data_module import MNISTDataModule\n",
    "from torchvision import transforms\n",
    "import torch.nn as nn\n",
    "import lightning.pytorch as pl\n",
    "import pandas as pd\n",
    "import matplotlib.pyplot as plt\n",
    "import torch\n",
    "\n",
    "pl.seed_everything(42)"
   ]
  },
  {
   "cell_type": "markdown",
   "metadata": {},
   "source": [
    "# Setting up Hyperparameters"
   ]
  },
  {
   "cell_type": "code",
   "execution_count": 64,
   "metadata": {},
   "outputs": [],
   "source": [
    "lr = 0.02 # Change learning rate here\n",
    "batch_size = 64\n",
    "max_epochs = 5"
   ]
  },
  {
   "cell_type": "markdown",
   "metadata": {},
   "source": [
    "# Defining Model Architecture "
   ]
  },
  {
   "cell_type": "code",
   "execution_count": 65,
   "metadata": {},
   "outputs": [],
   "source": [
    "def create_model():\n",
    "    \"\"\"\n",
    "        Initializes the model. Edit the code below if you would like to change the model.\n",
    "    \"\"\"\n",
    "    model = nn.Sequential(\n",
    "        nn.Flatten(),  # Flattens the image from shape (batch_size, C, Height, width) to (batch_size, C*height*width)\n",
    "        nn.Linear(28*28*1, 10), \n",
    "        # Implement changes here\n",
    "        # No need to include softmax, as this is already combined in the loss function\n",
    "    )\n",
    "    return model\n",
    "\n",
    "# Initialize the model, data module, and trainer\n",
    "pl_model = LightningModule(model = create_model(), lr=lr)"
   ]
  },
  {
   "cell_type": "markdown",
   "metadata": {},
   "source": [
    "# Setting up Dataloaders and Transformations"
   ]
  },
  {
   "cell_type": "code",
   "execution_count": 66,
   "metadata": {},
   "outputs": [],
   "source": [
    "my_transforms = transforms.Compose([\n",
    "            transforms.ToTensor(),\n",
    "            #Add normalization here \n",
    "        ])\n",
    "\n",
    "\n",
    "mnist_data = MNISTDataModule(batch_size=batch_size, transforms=my_transforms)"
   ]
  },
  {
   "cell_type": "markdown",
   "metadata": {},
   "source": [
    "# Train Model"
   ]
  },
  {
   "cell_type": "code",
   "execution_count": 68,
   "metadata": {},
   "outputs": [],
   "source": [
    "# Initialize CSVLogger\n",
    "csv_logger = pl.loggers.CSVLogger(save_dir='logs/', name='mnist_logs', version=0)\n",
    "\n",
    "# Set up the trainer\n",
    "trainer = pl.Trainer(max_epochs=max_epochs, logger=csv_logger, check_val_every_n_epoch=1, enable_checkpointing=False)\n",
    "\n",
    "# Train the model\n",
    "trainer.fit(pl_model, mnist_data)"
   ]
  },
  {
   "cell_type": "markdown",
   "metadata": {},
   "source": [
    "# Plot Results"
   ]
  },
  {
   "cell_type": "code",
   "execution_count": 69,
   "metadata": {},
   "outputs": [],
   "source": [
    "df = pd.read_csv('logs/mnist_logs/version_0/metrics.csv')\n",
    "\n",
    "# Create a figure and axes objects\n",
    "fig, ax = plt.subplots(1,2)\n",
    "\n",
    "# Plot 'val_loss' on the axes\n",
    "df.dropna(subset=['val_loss']).plot(x='step', y='val_loss', ax=ax[0], label='Validation Loss (Mean)')\n",
    "# Plot 'train_loss' on the same axes\n",
    "df.dropna(subset=['train_loss']).plot(x='step', y='train_loss', ax=ax[0], label='Training Loss')\n",
    "\n",
    "# Plot 'val_loss' on the axes\n",
    "df.dropna(subset=['val_acc']).plot(x='step', y='val_acc', ax=ax[1], label='Validation Accuracy (Mean)')\n",
    "# Plot 'train_loss' on the same axes\n",
    "df.dropna(subset=['train_acc']).plot(x='step', y='train_acc', ax=ax[1], label='Training Accuracy')\n",
    "\n",
    "ax[0].set_title('Loss')\n",
    "ax[1].set_title('Accuracy')\n",
    "plt.show()\n",
    "\n",
    "print(\"Final validation loss\", round(df['val_loss'].iloc[-1], 4))\n",
    "print(\"Final validation accuracy\", round(df['val_acc'].iloc[-1], 4))"
   ]
  },
  {
   "cell_type": "markdown",
   "metadata": {},
   "source": [
    "# Plot weights"
   ]
  },
  {
   "cell_type": "code",
   "execution_count": 70,
   "metadata": {},
   "outputs": [],
   "source": [
    "def plot_weights(weight):\n",
    "    \"\"\"\n",
    "        Plots the weights of the model. Only works for models with a single linear layer.\n",
    "        returns the shape of the reshaped weights as torch.Size\n",
    "    \"\"\"\n",
    "\n",
    "    fig, axs = plt.subplots(1, 10, figsize=(20, 2))\n",
    "    \n",
    "    reshaped_weight = weight # TODO - Reshape the weight into the correct shape for MNIST\n",
    "    \n",
    "    \n",
    "    for i in range(10):\n",
    "        axs[i].imshow(reshaped_weight[i], cmap='viridis')\n",
    "        axs[i].axis('off')\n",
    "        \n",
    "    return reshaped_weight.shape\n",
    "\n",
    "\n",
    "weight = list(pl_model.model.children())[-1].state_dict()[\"weight\"].cpu().data\n",
    "print(\"Shape of weights:\", weight.shape)\n",
    "if weight.shape == torch.Size([10, 784]):\n",
    "    plot_weights(weight)\n",
    "else:\n",
    "    print(\"This function only works for models with a single linear layer.\")\n"
   ]
  }
 ],
 "metadata": {
  "kernelspec": {
   "display_name": "base",
   "language": "python",
   "name": "python3"
  },
  "language_info": {
   "codemirror_mode": {
    "name": "ipython",
    "version": 3
   },
   "file_extension": ".py",
   "mimetype": "text/x-python",
   "name": "python",
   "nbconvert_exporter": "python",
   "pygments_lexer": "ipython3",
   "version": "3.10.15"
  }
 },
 "nbformat": 4,
 "nbformat_minor": 2
}
