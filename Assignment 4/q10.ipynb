{
 "cells": [
  {
   "cell_type": "code",
   "execution_count": 1,
   "metadata": {},
   "outputs": [],
   "source": [
    "from utils import read_im, save_im, normalize\n",
    "import matplotlib.pyplot as plt\n",
    "import numpy as np\n",
    "\n",
    "\n",
    "\n",
    "\n",
    "def convolve_im(im, kernel):\n",
    "    \"\"\" A function that convolves im with kernel\n",
    "\n",
    "    Args:\n",
    "        im ([type]): [np.array of shape [H, W, 3]]\n",
    "        kernel ([type]): [np.array of shape [K, K]]\n",
    "    Returns:\n",
    "        [type]: [np.array of shape [H, W, 3]. should be same as im]\n",
    "    \"\"\"\n",
    "    # YOUR CODE HERE\n",
    "    new_image = im.copy()\n",
    "\n",
    "\n",
    "    return new_image"
   ]
  },
  {
   "cell_type": "code",
   "execution_count": 2,
   "metadata": {},
   "outputs": [],
   "source": [
    "h_a = np.array([\n",
    "    [-1, 0, 1],\n",
    "    [-2, 0, 2],\n",
    "    [-1, 0, 1]\n",
    "])\n",
    "\n",
    "im = read_im(\"images/duck.jpeg\")\n",
    "im_sobel = convolve_im(im, h_a)\n",
    "im_sobel = normalize(im_sobel)\n",
    "\n",
    "plt.imshow(im_sobel)\n",
    "save_im(\"results/duck_sobel.jpeg\", im_sobel)"
   ]
  },
  {
   "cell_type": "code",
   "execution_count": 3,
   "metadata": {},
   "outputs": [],
   "source": [
    "h_b = 1 / 256  * np.array([\n",
    "        [1, 4, 6, 4, 1],\n",
    "        [4, 16, 24, 16, 4],\n",
    "        [6, 24, 36, 24, 6],\n",
    "        [4, 16, 24, 16, 4],\n",
    "        [1, 4, 6, 4, 1]\n",
    "    ])\n",
    " \n",
    "im_smoothed = convolve_im(im, h_b)\n",
    "im_smoothed = normalize(im_smoothed)\n",
    "\n",
    "plt.imshow(im_smoothed, cmap='gray')\n",
    "save_im(\"results/duck_smoothed.jpeg\", im_smoothed)"
   ]
  }
 ],
 "metadata": {
  "kernelspec": {
   "display_name": "base",
   "language": "python",
   "name": "python3"
  },
  "language_info": {
   "codemirror_mode": {
    "name": "ipython",
    "version": 3
   },
   "file_extension": ".py",
   "mimetype": "text/x-python",
   "name": "python",
   "nbconvert_exporter": "python",
   "pygments_lexer": "ipython3",
   "version": "3.11.4"
  }
 },
 "nbformat": 4,
 "nbformat_minor": 2
}
