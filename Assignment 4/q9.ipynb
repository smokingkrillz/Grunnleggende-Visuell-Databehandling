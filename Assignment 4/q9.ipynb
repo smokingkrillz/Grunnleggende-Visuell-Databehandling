{
 "cells": [
  {
   "cell_type": "code",
   "execution_count": 1,
   "metadata": {},
   "outputs": [],
   "source": [
    "from utils import read_im, save_im\n",
    "import matplotlib.pyplot as plt\n",
    "\n",
    "im = read_im(\"results/duck_greyscale.jpeg\")\n",
    "\n",
    "def inverse(im):\n",
    "    \"\"\" Finds the inverse of the grayscale image\n",
    "\n",
    "    Args:\n",
    "        im ([type]): [np.array of shape [H, W]]\n",
    "\n",
    "    Returns:\n",
    "        im ([type]): [np.array of shape [H, W]]\n",
    "    \"\"\"\n",
    "     # YOUR CODE HERE\n",
    "    return im\n",
    "\n",
    "im_inverse = inverse(im)\n",
    "\n",
    "plt.imshow(im_inverse, cmap='gray')\n",
    "save_im(\"results/duck_inverse.jpeg\", im_inverse, cmap='gray')"
   ]
  }
 ],
 "metadata": {
  "kernelspec": {
   "display_name": "base",
   "language": "python",
   "name": "python3"
  },
  "language_info": {
   "codemirror_mode": {
    "name": "ipython",
    "version": 3
   },
   "file_extension": ".py",
   "mimetype": "text/x-python",
   "name": "python",
   "nbconvert_exporter": "python",
   "pygments_lexer": "ipython3",
   "version": "3.11.4"
  }
 },
 "nbformat": 4,
 "nbformat_minor": 2
}
